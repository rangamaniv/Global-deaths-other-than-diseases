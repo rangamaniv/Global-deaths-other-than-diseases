{
 "cells": [
  {
   "cell_type": "markdown",
   "id": "7f775ffb",
   "metadata": {},
   "source": [
    "# 00. Importing Libraries\n",
    "\n",
    "# This script includes\n",
    "\n",
    "# 01. df_income_group data wrangling and cleaning steps\n",
    "\n",
    "# 02. df_country_region data wrangling and cleaning steps\n",
    "\n",
    "# 03. Exporting cleaned datasets\n"
   ]
  },
  {
   "cell_type": "code",
   "execution_count": 1,
   "id": "7e20d2c6",
   "metadata": {},
   "outputs": [],
   "source": [
    "# 00. Import libraries\n",
    "\n",
    "import pandas as pd\n",
    "import numpy as np\n",
    "import os"
   ]
  },
  {
   "cell_type": "code",
   "execution_count": 2,
   "id": "6e1eac27",
   "metadata": {},
   "outputs": [],
   "source": [
    "# creating path folder \n",
    "path = r'C:\\Users\\cpaul\\Documents\\Career Foundry\\Causes of deaths other than diseases'"
   ]
  },
  {
   "cell_type": "code",
   "execution_count": 7,
   "id": "228db846",
   "metadata": {},
   "outputs": [],
   "source": [
    "# 01. Importing dataset, income_group.csv to create df_income_group\n",
    "\n",
    "df_income_group = pd.read_csv(os.path.join(path, 'Data', 'Original Data', 'income_group.csv'), encoding = \"ISO-8859-1\", index_col = False)"
   ]
  },
  {
   "cell_type": "code",
   "execution_count": 8,
   "id": "2c5e3734",
   "metadata": {},
   "outputs": [
    {
     "data": {
      "text/html": [
       "<div>\n",
       "<style scoped>\n",
       "    .dataframe tbody tr th:only-of-type {\n",
       "        vertical-align: middle;\n",
       "    }\n",
       "\n",
       "    .dataframe tbody tr th {\n",
       "        vertical-align: top;\n",
       "    }\n",
       "\n",
       "    .dataframe thead th {\n",
       "        text-align: right;\n",
       "    }\n",
       "</style>\n",
       "<table border=\"1\" class=\"dataframe\">\n",
       "  <thead>\n",
       "    <tr style=\"text-align: right;\">\n",
       "      <th></th>\n",
       "      <th>country_code</th>\n",
       "      <th>country</th>\n",
       "      <th>year</th>\n",
       "      <th>income_group</th>\n",
       "    </tr>\n",
       "  </thead>\n",
       "  <tbody>\n",
       "    <tr>\n",
       "      <th>0</th>\n",
       "      <td>AFG</td>\n",
       "      <td>Afghanistan</td>\n",
       "      <td>1987</td>\n",
       "      <td>L</td>\n",
       "    </tr>\n",
       "    <tr>\n",
       "      <th>1</th>\n",
       "      <td>AFG</td>\n",
       "      <td>Afghanistan</td>\n",
       "      <td>1988</td>\n",
       "      <td>L</td>\n",
       "    </tr>\n",
       "    <tr>\n",
       "      <th>2</th>\n",
       "      <td>AFG</td>\n",
       "      <td>Afghanistan</td>\n",
       "      <td>1989</td>\n",
       "      <td>L</td>\n",
       "    </tr>\n",
       "    <tr>\n",
       "      <th>3</th>\n",
       "      <td>AFG</td>\n",
       "      <td>Afghanistan</td>\n",
       "      <td>1990</td>\n",
       "      <td>L</td>\n",
       "    </tr>\n",
       "    <tr>\n",
       "      <th>4</th>\n",
       "      <td>AFG</td>\n",
       "      <td>Afghanistan</td>\n",
       "      <td>1991</td>\n",
       "      <td>L</td>\n",
       "    </tr>\n",
       "    <tr>\n",
       "      <th>5</th>\n",
       "      <td>AFG</td>\n",
       "      <td>Afghanistan</td>\n",
       "      <td>1992</td>\n",
       "      <td>L</td>\n",
       "    </tr>\n",
       "    <tr>\n",
       "      <th>6</th>\n",
       "      <td>AFG</td>\n",
       "      <td>Afghanistan</td>\n",
       "      <td>1993</td>\n",
       "      <td>L</td>\n",
       "    </tr>\n",
       "    <tr>\n",
       "      <th>7</th>\n",
       "      <td>AFG</td>\n",
       "      <td>Afghanistan</td>\n",
       "      <td>1994</td>\n",
       "      <td>L</td>\n",
       "    </tr>\n",
       "    <tr>\n",
       "      <th>8</th>\n",
       "      <td>AFG</td>\n",
       "      <td>Afghanistan</td>\n",
       "      <td>1995</td>\n",
       "      <td>L</td>\n",
       "    </tr>\n",
       "    <tr>\n",
       "      <th>9</th>\n",
       "      <td>AFG</td>\n",
       "      <td>Afghanistan</td>\n",
       "      <td>1996</td>\n",
       "      <td>L</td>\n",
       "    </tr>\n",
       "    <tr>\n",
       "      <th>10</th>\n",
       "      <td>AFG</td>\n",
       "      <td>Afghanistan</td>\n",
       "      <td>1997</td>\n",
       "      <td>L</td>\n",
       "    </tr>\n",
       "    <tr>\n",
       "      <th>11</th>\n",
       "      <td>AFG</td>\n",
       "      <td>Afghanistan</td>\n",
       "      <td>1998</td>\n",
       "      <td>L</td>\n",
       "    </tr>\n",
       "    <tr>\n",
       "      <th>12</th>\n",
       "      <td>AFG</td>\n",
       "      <td>Afghanistan</td>\n",
       "      <td>1999</td>\n",
       "      <td>L</td>\n",
       "    </tr>\n",
       "    <tr>\n",
       "      <th>13</th>\n",
       "      <td>AFG</td>\n",
       "      <td>Afghanistan</td>\n",
       "      <td>2000</td>\n",
       "      <td>L</td>\n",
       "    </tr>\n",
       "    <tr>\n",
       "      <th>14</th>\n",
       "      <td>AFG</td>\n",
       "      <td>Afghanistan</td>\n",
       "      <td>2001</td>\n",
       "      <td>L</td>\n",
       "    </tr>\n",
       "    <tr>\n",
       "      <th>15</th>\n",
       "      <td>AFG</td>\n",
       "      <td>Afghanistan</td>\n",
       "      <td>2002</td>\n",
       "      <td>L</td>\n",
       "    </tr>\n",
       "    <tr>\n",
       "      <th>16</th>\n",
       "      <td>AFG</td>\n",
       "      <td>Afghanistan</td>\n",
       "      <td>2003</td>\n",
       "      <td>L</td>\n",
       "    </tr>\n",
       "    <tr>\n",
       "      <th>17</th>\n",
       "      <td>AFG</td>\n",
       "      <td>Afghanistan</td>\n",
       "      <td>2004</td>\n",
       "      <td>L</td>\n",
       "    </tr>\n",
       "    <tr>\n",
       "      <th>18</th>\n",
       "      <td>AFG</td>\n",
       "      <td>Afghanistan</td>\n",
       "      <td>2005</td>\n",
       "      <td>L</td>\n",
       "    </tr>\n",
       "    <tr>\n",
       "      <th>19</th>\n",
       "      <td>AFG</td>\n",
       "      <td>Afghanistan</td>\n",
       "      <td>2006</td>\n",
       "      <td>L</td>\n",
       "    </tr>\n",
       "  </tbody>\n",
       "</table>\n",
       "</div>"
      ],
      "text/plain": [
       "   country_code      country  year income_group\n",
       "0           AFG  Afghanistan  1987            L\n",
       "1           AFG  Afghanistan  1988            L\n",
       "2           AFG  Afghanistan  1989            L\n",
       "3           AFG  Afghanistan  1990            L\n",
       "4           AFG  Afghanistan  1991            L\n",
       "5           AFG  Afghanistan  1992            L\n",
       "6           AFG  Afghanistan  1993            L\n",
       "7           AFG  Afghanistan  1994            L\n",
       "8           AFG  Afghanistan  1995            L\n",
       "9           AFG  Afghanistan  1996            L\n",
       "10          AFG  Afghanistan  1997            L\n",
       "11          AFG  Afghanistan  1998            L\n",
       "12          AFG  Afghanistan  1999            L\n",
       "13          AFG  Afghanistan  2000            L\n",
       "14          AFG  Afghanistan  2001            L\n",
       "15          AFG  Afghanistan  2002            L\n",
       "16          AFG  Afghanistan  2003            L\n",
       "17          AFG  Afghanistan  2004            L\n",
       "18          AFG  Afghanistan  2005            L\n",
       "19          AFG  Afghanistan  2006            L"
      ]
     },
     "execution_count": 8,
     "metadata": {},
     "output_type": "execute_result"
    }
   ],
   "source": [
    "df_income_group.head(20)"
   ]
  },
  {
   "cell_type": "code",
   "execution_count": 9,
   "id": "e130d361",
   "metadata": {},
   "outputs": [
    {
     "data": {
      "text/plain": [
       "(7845, 4)"
      ]
     },
     "execution_count": 9,
     "metadata": {},
     "output_type": "execute_result"
    }
   ],
   "source": [
    "df_income_group.shape"
   ]
  },
  {
   "cell_type": "code",
   "execution_count": 10,
   "id": "9cd270f5",
   "metadata": {},
   "outputs": [
    {
     "data": {
      "text/html": [
       "<div>\n",
       "<style scoped>\n",
       "    .dataframe tbody tr th:only-of-type {\n",
       "        vertical-align: middle;\n",
       "    }\n",
       "\n",
       "    .dataframe tbody tr th {\n",
       "        vertical-align: top;\n",
       "    }\n",
       "\n",
       "    .dataframe thead th {\n",
       "        text-align: right;\n",
       "    }\n",
       "</style>\n",
       "<table border=\"1\" class=\"dataframe\">\n",
       "  <thead>\n",
       "    <tr style=\"text-align: right;\">\n",
       "      <th></th>\n",
       "      <th>year</th>\n",
       "    </tr>\n",
       "  </thead>\n",
       "  <tbody>\n",
       "    <tr>\n",
       "      <th>count</th>\n",
       "      <td>7845.000000</td>\n",
       "    </tr>\n",
       "    <tr>\n",
       "      <th>mean</th>\n",
       "      <td>2004.493690</td>\n",
       "    </tr>\n",
       "    <tr>\n",
       "      <th>std</th>\n",
       "      <td>10.385917</td>\n",
       "    </tr>\n",
       "    <tr>\n",
       "      <th>min</th>\n",
       "      <td>1987.000000</td>\n",
       "    </tr>\n",
       "    <tr>\n",
       "      <th>25%</th>\n",
       "      <td>1995.000000</td>\n",
       "    </tr>\n",
       "    <tr>\n",
       "      <th>50%</th>\n",
       "      <td>2004.000000</td>\n",
       "    </tr>\n",
       "    <tr>\n",
       "      <th>75%</th>\n",
       "      <td>2013.000000</td>\n",
       "    </tr>\n",
       "    <tr>\n",
       "      <th>max</th>\n",
       "      <td>2022.000000</td>\n",
       "    </tr>\n",
       "  </tbody>\n",
       "</table>\n",
       "</div>"
      ],
      "text/plain": [
       "              year\n",
       "count  7845.000000\n",
       "mean   2004.493690\n",
       "std      10.385917\n",
       "min    1987.000000\n",
       "25%    1995.000000\n",
       "50%    2004.000000\n",
       "75%    2013.000000\n",
       "max    2022.000000"
      ]
     },
     "execution_count": 10,
     "metadata": {},
     "output_type": "execute_result"
    }
   ],
   "source": [
    "df_income_group.describe()"
   ]
  },
  {
   "cell_type": "code",
   "execution_count": null,
   "id": "57bcebac",
   "metadata": {},
   "outputs": [],
   "source": [
    "# Not renaming any columns"
   ]
  },
  {
   "cell_type": "code",
   "execution_count": 11,
   "id": "b739e009",
   "metadata": {},
   "outputs": [
    {
     "data": {
      "text/plain": [
       "country_code    object\n",
       "country         object\n",
       "year             int64\n",
       "income_group    object\n",
       "dtype: object"
      ]
     },
     "execution_count": 11,
     "metadata": {},
     "output_type": "execute_result"
    }
   ],
   "source": [
    "df_income_group.dtypes"
   ]
  },
  {
   "cell_type": "code",
   "execution_count": 12,
   "id": "d1511543",
   "metadata": {},
   "outputs": [],
   "source": [
    "#check for mixed types\n",
    "for col in df_income_group.columns.tolist():\n",
    "  weird = (df_income_group[[col]].applymap(type) != df_income_group[[col]].iloc[0].apply(type)).any(axis = 1)\n",
    "  if len (df_income_group[weird]) > 0:\n",
    "    print (col)"
   ]
  },
  {
   "cell_type": "code",
   "execution_count": null,
   "id": "ac3c6c60",
   "metadata": {},
   "outputs": [],
   "source": [
    "# No mixed type columns found"
   ]
  },
  {
   "cell_type": "code",
   "execution_count": 16,
   "id": "535d6e4d",
   "metadata": {},
   "outputs": [],
   "source": [
    "#Changing the datatype of the variable country, country_code\n",
    "\n",
    "df_income_group['country'] = df_income_group['country'].astype('str')\n",
    "df_income_group['country_code'] = df_income_group['country_code'].astype('str')\n",
    "df_income_group['income_group'] = df_income_group['income_group'].astype('str')"
   ]
  },
  {
   "cell_type": "code",
   "execution_count": 13,
   "id": "c9a23018",
   "metadata": {},
   "outputs": [
    {
     "data": {
      "text/plain": [
       "country_code    0\n",
       "country         0\n",
       "year            0\n",
       "income_group    0\n",
       "dtype: int64"
      ]
     },
     "execution_count": 13,
     "metadata": {},
     "output_type": "execute_result"
    }
   ],
   "source": [
    "#check for missing values\n",
    "df_income_group.isnull().sum()"
   ]
  },
  {
   "cell_type": "code",
   "execution_count": null,
   "id": "a105822a",
   "metadata": {},
   "outputs": [],
   "source": [
    "# No missing values"
   ]
  },
  {
   "cell_type": "code",
   "execution_count": 14,
   "id": "27f6d26e",
   "metadata": {},
   "outputs": [],
   "source": [
    "# Checking for duplicates\n",
    "df_income_group_dup = df_income_group[df_income_group.duplicated()]"
   ]
  },
  {
   "cell_type": "code",
   "execution_count": 15,
   "id": "16ae8dc6",
   "metadata": {},
   "outputs": [
    {
     "data": {
      "text/html": [
       "<div>\n",
       "<style scoped>\n",
       "    .dataframe tbody tr th:only-of-type {\n",
       "        vertical-align: middle;\n",
       "    }\n",
       "\n",
       "    .dataframe tbody tr th {\n",
       "        vertical-align: top;\n",
       "    }\n",
       "\n",
       "    .dataframe thead th {\n",
       "        text-align: right;\n",
       "    }\n",
       "</style>\n",
       "<table border=\"1\" class=\"dataframe\">\n",
       "  <thead>\n",
       "    <tr style=\"text-align: right;\">\n",
       "      <th></th>\n",
       "      <th>country_code</th>\n",
       "      <th>country</th>\n",
       "      <th>year</th>\n",
       "      <th>income_group</th>\n",
       "    </tr>\n",
       "  </thead>\n",
       "  <tbody>\n",
       "  </tbody>\n",
       "</table>\n",
       "</div>"
      ],
      "text/plain": [
       "Empty DataFrame\n",
       "Columns: [country_code, country, year, income_group]\n",
       "Index: []"
      ]
     },
     "execution_count": 15,
     "metadata": {},
     "output_type": "execute_result"
    }
   ],
   "source": [
    "df_income_group_dup"
   ]
  },
  {
   "cell_type": "code",
   "execution_count": null,
   "id": "ffb134a8",
   "metadata": {},
   "outputs": [],
   "source": [
    "# No duplicates found"
   ]
  },
  {
   "cell_type": "code",
   "execution_count": 18,
   "id": "d7e752bb",
   "metadata": {},
   "outputs": [],
   "source": [
    "# 02. Importing dataset, UNSD_derived_country_region_data.csv to create df_country_region\n",
    "\n",
    "df_country_region = pd.read_csv(os.path.join(path, 'Data', 'Original Data', 'UNSD_derived_country_region_data.csv'), encoding = \"ISO-8859-1\", index_col = False)"
   ]
  },
  {
   "cell_type": "code",
   "execution_count": 19,
   "id": "7dafc98c",
   "metadata": {},
   "outputs": [
    {
     "data": {
      "text/plain": [
       "(248, 4)"
      ]
     },
     "execution_count": 19,
     "metadata": {},
     "output_type": "execute_result"
    }
   ],
   "source": [
    "df_country_region.shape"
   ]
  },
  {
   "cell_type": "code",
   "execution_count": 20,
   "id": "8c360c28",
   "metadata": {},
   "outputs": [
    {
     "data": {
      "text/html": [
       "<div>\n",
       "<style scoped>\n",
       "    .dataframe tbody tr th:only-of-type {\n",
       "        vertical-align: middle;\n",
       "    }\n",
       "\n",
       "    .dataframe tbody tr th {\n",
       "        vertical-align: top;\n",
       "    }\n",
       "\n",
       "    .dataframe thead th {\n",
       "        text-align: right;\n",
       "    }\n",
       "</style>\n",
       "<table border=\"1\" class=\"dataframe\">\n",
       "  <thead>\n",
       "    <tr style=\"text-align: right;\">\n",
       "      <th></th>\n",
       "      <th>ISO-alpha3 Code</th>\n",
       "      <th>Country or Area</th>\n",
       "      <th>Region Name</th>\n",
       "      <th>Sub-region Name</th>\n",
       "    </tr>\n",
       "  </thead>\n",
       "  <tbody>\n",
       "    <tr>\n",
       "      <th>0</th>\n",
       "      <td>DZA</td>\n",
       "      <td>Algeria</td>\n",
       "      <td>Africa</td>\n",
       "      <td>Northern Africa</td>\n",
       "    </tr>\n",
       "    <tr>\n",
       "      <th>1</th>\n",
       "      <td>EGY</td>\n",
       "      <td>Egypt</td>\n",
       "      <td>Africa</td>\n",
       "      <td>Northern Africa</td>\n",
       "    </tr>\n",
       "    <tr>\n",
       "      <th>2</th>\n",
       "      <td>LBY</td>\n",
       "      <td>Libya</td>\n",
       "      <td>Africa</td>\n",
       "      <td>Northern Africa</td>\n",
       "    </tr>\n",
       "    <tr>\n",
       "      <th>3</th>\n",
       "      <td>MAR</td>\n",
       "      <td>Morocco</td>\n",
       "      <td>Africa</td>\n",
       "      <td>Northern Africa</td>\n",
       "    </tr>\n",
       "    <tr>\n",
       "      <th>4</th>\n",
       "      <td>SDN</td>\n",
       "      <td>Sudan</td>\n",
       "      <td>Africa</td>\n",
       "      <td>Northern Africa</td>\n",
       "    </tr>\n",
       "  </tbody>\n",
       "</table>\n",
       "</div>"
      ],
      "text/plain": [
       "  ISO-alpha3 Code Country or Area Region Name  Sub-region Name\n",
       "0             DZA         Algeria      Africa  Northern Africa\n",
       "1             EGY           Egypt      Africa  Northern Africa\n",
       "2             LBY           Libya      Africa  Northern Africa\n",
       "3             MAR         Morocco      Africa  Northern Africa\n",
       "4             SDN           Sudan      Africa  Northern Africa"
      ]
     },
     "execution_count": 20,
     "metadata": {},
     "output_type": "execute_result"
    }
   ],
   "source": [
    "df_country_region.head()"
   ]
  },
  {
   "cell_type": "code",
   "execution_count": 21,
   "id": "378571ce",
   "metadata": {},
   "outputs": [],
   "source": [
    "# Renaming columns\n",
    "\n",
    "df_country_region.rename(columns={'ISO-alpha3 Code':'iso_code', 'Country or Area':'country', 'Region Name':'region', 'Sub-region Name':'sub_region'}, inplace=True)"
   ]
  },
  {
   "cell_type": "code",
   "execution_count": 22,
   "id": "a3545020",
   "metadata": {},
   "outputs": [
    {
     "data": {
      "text/html": [
       "<div>\n",
       "<style scoped>\n",
       "    .dataframe tbody tr th:only-of-type {\n",
       "        vertical-align: middle;\n",
       "    }\n",
       "\n",
       "    .dataframe tbody tr th {\n",
       "        vertical-align: top;\n",
       "    }\n",
       "\n",
       "    .dataframe thead th {\n",
       "        text-align: right;\n",
       "    }\n",
       "</style>\n",
       "<table border=\"1\" class=\"dataframe\">\n",
       "  <thead>\n",
       "    <tr style=\"text-align: right;\">\n",
       "      <th></th>\n",
       "      <th>iso_code</th>\n",
       "      <th>country</th>\n",
       "      <th>region</th>\n",
       "      <th>sub_region</th>\n",
       "    </tr>\n",
       "  </thead>\n",
       "  <tbody>\n",
       "    <tr>\n",
       "      <th>0</th>\n",
       "      <td>DZA</td>\n",
       "      <td>Algeria</td>\n",
       "      <td>Africa</td>\n",
       "      <td>Northern Africa</td>\n",
       "    </tr>\n",
       "    <tr>\n",
       "      <th>1</th>\n",
       "      <td>EGY</td>\n",
       "      <td>Egypt</td>\n",
       "      <td>Africa</td>\n",
       "      <td>Northern Africa</td>\n",
       "    </tr>\n",
       "    <tr>\n",
       "      <th>2</th>\n",
       "      <td>LBY</td>\n",
       "      <td>Libya</td>\n",
       "      <td>Africa</td>\n",
       "      <td>Northern Africa</td>\n",
       "    </tr>\n",
       "    <tr>\n",
       "      <th>3</th>\n",
       "      <td>MAR</td>\n",
       "      <td>Morocco</td>\n",
       "      <td>Africa</td>\n",
       "      <td>Northern Africa</td>\n",
       "    </tr>\n",
       "    <tr>\n",
       "      <th>4</th>\n",
       "      <td>SDN</td>\n",
       "      <td>Sudan</td>\n",
       "      <td>Africa</td>\n",
       "      <td>Northern Africa</td>\n",
       "    </tr>\n",
       "  </tbody>\n",
       "</table>\n",
       "</div>"
      ],
      "text/plain": [
       "  iso_code  country  region       sub_region\n",
       "0      DZA  Algeria  Africa  Northern Africa\n",
       "1      EGY    Egypt  Africa  Northern Africa\n",
       "2      LBY    Libya  Africa  Northern Africa\n",
       "3      MAR  Morocco  Africa  Northern Africa\n",
       "4      SDN    Sudan  Africa  Northern Africa"
      ]
     },
     "execution_count": 22,
     "metadata": {},
     "output_type": "execute_result"
    }
   ],
   "source": [
    "df_country_region.head()"
   ]
  },
  {
   "cell_type": "code",
   "execution_count": 23,
   "id": "7da12d02",
   "metadata": {},
   "outputs": [
    {
     "data": {
      "text/plain": [
       "iso_code      object\n",
       "country       object\n",
       "region        object\n",
       "sub_region    object\n",
       "dtype: object"
      ]
     },
     "execution_count": 23,
     "metadata": {},
     "output_type": "execute_result"
    }
   ],
   "source": [
    "df_country_region.dtypes"
   ]
  },
  {
   "cell_type": "code",
   "execution_count": 24,
   "id": "17e80514",
   "metadata": {},
   "outputs": [
    {
     "name": "stdout",
     "output_type": "stream",
     "text": [
      "region\n",
      "sub_region\n"
     ]
    }
   ],
   "source": [
    "#check for mixed types\n",
    "for col in df_country_region.columns.tolist():\n",
    "  weird = (df_country_region[[col]].applymap(type) != df_country_region[[col]].iloc[0].apply(type)).any(axis = 1)\n",
    "  if len (df_country_region[weird]) > 0:\n",
    "    print (col)"
   ]
  },
  {
   "cell_type": "code",
   "execution_count": 25,
   "id": "d9f7809d",
   "metadata": {},
   "outputs": [],
   "source": [
    "#Changing the datatype of the variable region, sub_region , also for country, iso_code\n",
    "\n",
    "df_country_region['region'] = df_country_region['region'].astype('str')\n",
    "df_country_region['sub_region'] = df_country_region['sub_region'].astype('str')\n",
    "df_country_region['country'] = df_country_region['country'].astype('str')\n",
    "df_country_region['iso_code'] = df_country_region['iso_code'].astype('str')\n"
   ]
  },
  {
   "cell_type": "code",
   "execution_count": 26,
   "id": "085e457b",
   "metadata": {},
   "outputs": [
    {
     "data": {
      "text/plain": [
       "iso_code      0\n",
       "country       0\n",
       "region        0\n",
       "sub_region    0\n",
       "dtype: int64"
      ]
     },
     "execution_count": 26,
     "metadata": {},
     "output_type": "execute_result"
    }
   ],
   "source": [
    "#check for missing values\n",
    "df_country_region.isnull().sum()"
   ]
  },
  {
   "cell_type": "code",
   "execution_count": null,
   "id": "b8a821c1",
   "metadata": {},
   "outputs": [],
   "source": [
    "# No missing values found"
   ]
  },
  {
   "cell_type": "code",
   "execution_count": 27,
   "id": "6d8949d3",
   "metadata": {},
   "outputs": [],
   "source": [
    "# Checking for duplicates\n",
    "df_country_region_dup = df_country_region[df_country_region.duplicated()]"
   ]
  },
  {
   "cell_type": "code",
   "execution_count": 28,
   "id": "5f9da378",
   "metadata": {},
   "outputs": [
    {
     "data": {
      "text/html": [
       "<div>\n",
       "<style scoped>\n",
       "    .dataframe tbody tr th:only-of-type {\n",
       "        vertical-align: middle;\n",
       "    }\n",
       "\n",
       "    .dataframe tbody tr th {\n",
       "        vertical-align: top;\n",
       "    }\n",
       "\n",
       "    .dataframe thead th {\n",
       "        text-align: right;\n",
       "    }\n",
       "</style>\n",
       "<table border=\"1\" class=\"dataframe\">\n",
       "  <thead>\n",
       "    <tr style=\"text-align: right;\">\n",
       "      <th></th>\n",
       "      <th>iso_code</th>\n",
       "      <th>country</th>\n",
       "      <th>region</th>\n",
       "      <th>sub_region</th>\n",
       "    </tr>\n",
       "  </thead>\n",
       "  <tbody>\n",
       "  </tbody>\n",
       "</table>\n",
       "</div>"
      ],
      "text/plain": [
       "Empty DataFrame\n",
       "Columns: [iso_code, country, region, sub_region]\n",
       "Index: []"
      ]
     },
     "execution_count": 28,
     "metadata": {},
     "output_type": "execute_result"
    }
   ],
   "source": [
    "df_country_region_dup"
   ]
  },
  {
   "cell_type": "code",
   "execution_count": null,
   "id": "4c37af17",
   "metadata": {},
   "outputs": [],
   "source": [
    "# No duplicates found"
   ]
  },
  {
   "cell_type": "code",
   "execution_count": 30,
   "id": "9bbf0913",
   "metadata": {},
   "outputs": [],
   "source": [
    "# Exporting df_causes_of_deaths, df_gdp dataframes\n",
    "\n",
    "df_income_group.to_csv(os.path.join(path, 'Data', 'Prepared Data', 'income_group_data_checked.csv'))\n",
    "\n",
    "df_country_region.to_csv(os.path.join(path, 'Data', 'Prepared Data', 'country_region_data_checked.csv'))"
   ]
  }
 ],
 "metadata": {
  "kernelspec": {
   "display_name": "Python 3 (ipykernel)",
   "language": "python",
   "name": "python3"
  },
  "language_info": {
   "codemirror_mode": {
    "name": "ipython",
    "version": 3
   },
   "file_extension": ".py",
   "mimetype": "text/x-python",
   "name": "python",
   "nbconvert_exporter": "python",
   "pygments_lexer": "ipython3",
   "version": "3.10.9"
  }
 },
 "nbformat": 4,
 "nbformat_minor": 5
}
